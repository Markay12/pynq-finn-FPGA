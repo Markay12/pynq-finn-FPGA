{
 "cells": [
  {
   "cell_type": "markdown",
   "id": "9c67d734",
   "metadata": {},
   "source": [
    "# Test Different Weight and Bias Values on Fashion MNIST Dataset"
   ]
  },
  {
   "cell_type": "markdown",
   "id": "6ac1ba5e",
   "metadata": {},
   "source": [
    "Load imports. Make sure that onnx is imported before Torch. __ONNX is always imported before Torch__"
   ]
  },
  {
   "cell_type": "code",
   "execution_count": 1,
   "id": "98ef02ab",
   "metadata": {},
   "outputs": [],
   "source": [
    "import onnx\n",
    "import torch"
   ]
  },
  {
   "cell_type": "markdown",
   "id": "e4285fff",
   "metadata": {},
   "source": [
    "## Load The Fashion MNIST Dataset Using PyTorch"
   ]
  },
  {
   "cell_type": "code",
   "execution_count": 3,
   "id": "30bd1d71",
   "metadata": {},
   "outputs": [
    {
     "name": "stdout",
     "output_type": "stream",
     "text": [
      "torch.Size([60000, 28, 28])\n"
     ]
    }
   ],
   "source": [
    "import numpy as np\n",
    "import torch\n",
    "from torchvision import datasets\n",
    "\n",
    "# Load Fashion MNIST dataset\n",
    "train_data = datasets.FashionMNIST(root='data', train=True, download=True)\n",
    "train_data_np = np.array(train_data.data)\n",
    "train_data_np.setflags(write=1) # make the NumPy array writeable\n",
    "train_data_tensor = torch.from_numpy(train_data_np)\n",
    "\n",
    "# Print the shape of the tensor\n",
    "print(train_data_tensor.shape)\n"
   ]
  },
  {
   "cell_type": "code",
   "execution_count": null,
   "id": "657157a9",
   "metadata": {},
   "outputs": [],
   "source": []
  }
 ],
 "metadata": {
  "kernelspec": {
   "display_name": "Python 3",
   "language": "python",
   "name": "python3"
  },
  "language_info": {
   "codemirror_mode": {
    "name": "ipython",
    "version": 3
   },
   "file_extension": ".py",
   "mimetype": "text/x-python",
   "name": "python",
   "nbconvert_exporter": "python",
   "pygments_lexer": "ipython3",
   "version": "3.8.5"
  }
 },
 "nbformat": 4,
 "nbformat_minor": 5
}
