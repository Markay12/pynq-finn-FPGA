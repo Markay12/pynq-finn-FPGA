{
 "cells": [
  {
   "cell_type": "markdown",
   "id": "05afd270",
   "metadata": {},
   "source": [
    "# Test Different Weight and Bias Values on Fashion MNIST Dataset"
   ]
  },
  {
   "cell_type": "markdown",
   "id": "3b2987ea",
   "metadata": {},
   "source": [
    "Load imports. Make sure that onnx is imported before Torch. __ONNX is always imported before Torch__"
   ]
  },
  {
   "cell_type": "code",
   "execution_count": 14,
   "id": "c3506ce5",
   "metadata": {},
   "outputs": [],
   "source": [
    "import numpy as np\n",
    "import pandas as pd\n",
    "import matplotlib.pyplot as plt\n",
    "\n",
    "import torch\n",
    "import torch.nn as nn\n",
    "from torch.autograd import Variable\n",
    "\n",
    "import torchvision\n",
    "import torchvision.transforms as transforms\n",
    "from torch.utils.data import Dataset, DataLoader\n",
    "from sklearn.metrics import confusion_matrix"
   ]
  },
  {
   "cell_type": "markdown",
   "id": "ab3bd755",
   "metadata": {},
   "source": [
    "## Load The Fashion MNIST Dataset Using PyTorch\n",
    "\n",
    "Here we load the Fashion MNIST dataset using `torchvision.datasets.FashionMNIST`, and specify that we want to download the dataset if it isn't already downloaded. We also use the transform argument to apply the `transforms.Compose([transforms.ToTensor()])` transformation to each image, which converts the images from PIL Images to PyTorch Tensors.\n",
    "\n",
    "We then wrap the `train_set` and `test_set` datasets in PyTorch `DataLoader` objects, which allow us to load the data in batches for more efficient processing during training and testing.\n",
    "\n",
    "Finally, we use `next(iter(train_loader))` to retrieve the first batch of training data from the `train_loader`, and print the size of the batch and the total number of training examples in train_set."
   ]
  },
  {
   "cell_type": "code",
   "execution_count": 19,
   "id": "931c6fdd",
   "metadata": {
    "scrolled": true
   },
   "outputs": [
    {
     "name": "stdout",
     "output_type": "stream",
     "text": [
      "torch.Size([1000, 1, 28, 28])\n",
      "60000\n"
     ]
    }
   ],
   "source": [
    "# Load Fashion MNIST dataset\n",
    "train_set = torchvision.datasets.FashionMNIST(\"./data\", download=True, transform=\n",
    "                                                transforms.Compose([transforms.ToTensor()]))\n",
    "test_set = torchvision.datasets.FashionMNIST(\"./data\", download=True, train=False, transform=\n",
    "                                               transforms.Compose([transforms.ToTensor()]))  \n",
    "\n",
    "# Loaders\n",
    "train_loader = torch.utils.data.DataLoader(train_set, \n",
    "                                           batch_size=1000)\n",
    "test_loader = torch.utils.data.DataLoader(test_set,\n",
    "                                          batch_size=1000)\n",
    "\n",
    "a = next(iter(train_loader))\n",
    "print(a[0].size())\n",
    "print(len(train_set))"
   ]
  },
  {
   "cell_type": "code",
   "execution_count": 20,
   "id": "02f33c9e",
   "metadata": {},
   "outputs": [
    {
     "name": "stdout",
     "output_type": "stream",
     "text": [
      "9\n"
     ]
    },
    {
     "data": {
      "image/png": "[encoded data removed]",
      "text/plain": [
       "<Figure size 432x288 with 1 Axes>"
      ]
     },
     "metadata": {
      "needs_background": "light"
     },
     "output_type": "display_data"
    }
   ],
   "source": [
    "image, label = next(iter(train_set))\n",
    "\n",
    "plt.imshow(image.squeeze(), cmap=\"gray\")\n",
    "print(label)"
   ]
  },
  {
   "cell_type": "markdown",
   "id": "8d406275",
   "metadata": {},
   "source": [
    "## Data Loader\n",
    "\n",
    "Using PyTorch dataloader we can create a convenient iterator over the dataset that returns batches of data, rather than requiring manual batch creation. "
   ]
  },
  {
   "cell_type": "code",
   "execution_count": 22,
   "id": "02d83440",
   "metadata": {},
   "outputs": [
    {
     "name": "stdout",
     "output_type": "stream",
     "text": [
      "<class 'torch.Tensor'> <class 'torch.Tensor'>\n",
      "torch.Size([1000, 1, 28, 28]) torch.Size([1000])\n"
     ]
    }
   ],
   "source": [
    "# set batch size\n",
    "batch_size = 1000\n",
    "\n",
    "# Create a DataLoader for a training dataset with a batch size of 100\n",
    "train_quantized_loader = DataLoader(train_set, batch_size=batch_size)\n",
    "test_quantized_loader = DataLoader(test_set, batch_size=batch_size)\n",
    "\n",
    "# Get the first batch from the demo_loader\n",
    "batch = next(iter(demo_loader))\n",
    "\n",
    "# Split the batch into images and labels tensors\n",
    "images, labels = batch\n",
    "print(type(images), type(labels))\n",
    "print(images.shape, labels.shape)"
   ]
  },
  {
   "cell_type": "code",
   "execution_count": null,
   "id": "95a3bc72",
   "metadata": {},
   "outputs": [],
   "source": []
  }
 ],
 "metadata": {
  "kernelspec": {
   "display_name": "Python 3",
   "language": "python",
   "name": "python3"
  },
  "language_info": {
   "codemirror_mode": {
    "name": "ipython",
    "version": 3
   },
   "file_extension": ".py",
   "mimetype": "text/x-python",
   "name": "python",
   "nbconvert_exporter": "python",
   "pygments_lexer": "ipython3",
   "version": "3.8.5"
  }
 },
 "nbformat": 4,
 "nbformat_minor": 5
}
